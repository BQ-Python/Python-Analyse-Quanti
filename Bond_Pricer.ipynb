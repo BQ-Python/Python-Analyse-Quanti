{
  "nbformat": 4,
  "nbformat_minor": 0,
  "metadata": {
    "colab": {
      "provenance": []
    },
    "kernelspec": {
      "name": "python3",
      "display_name": "Python 3"
    },
    "language_info": {
      "name": "python"
    }
  },
  "cells": [
    {
      "cell_type": "code",
      "source": [
        "import numpy as np\n",
        "\n",
        "def calculate_convexity_duration_price(par_value, coupon_rate, years_to_maturity, yield_change):\n",
        "    # Calculate the present value of the bond\n",
        "    pv = 0\n",
        "    duration_pv = 0\n",
        "    for t in range(1, years_to_maturity + 1):\n",
        "        discount_factor = np.exp(-t*yield_change)\n",
        "        pv += coupon_rate * par_value * discount_factor\n",
        "        duration_pv += t * coupon_rate * par_value * discount_factor\n",
        "    pv += par_value / (1 + yield_change)**years_to_maturity\n",
        "    duration_pv += years_to_maturity * par_value / (1 + yield_change)**years_to_maturity\n",
        "\n",
        "    # Calculate duration\n",
        "    duration = duration_pv / pv\n",
        "\n",
        "    # Calculate the present value of the bond with increased yield\n",
        "    pv_plus = 0\n",
        "    for t in range(1, years_to_maturity + 1):\n",
        "        discount_factor = 1 / (1 + yield_change + 0.01)**t\n",
        "        pv_plus += coupon_rate * par_value * discount_factor\n",
        "    pv_plus += par_value / (1 + yield_change + 0.01)**years_to_maturity\n",
        "\n",
        "    # Calculate the present value of the bond with decreased yield\n",
        "    pv_minus = 0\n",
        "    for t in range(1, years_to_maturity + 1):\n",
        "        discount_factor = 1 / (1 + yield_change - 0.01)**t\n",
        "        pv_minus += coupon_rate * par_value * discount_factor\n",
        "    pv_minus += par_value / (1 + yield_change - 0.01)**years_to_maturity\n",
        "\n",
        "    # Calculate convexity\n",
        "    convexity = ((pv_plus + pv_minus) - 2 * pv) / (pv * (0.01**2))\n",
        "\n",
        "    return convexity, duration, pv\n",
        "\n",
        "def main():\n",
        "    par_value = float(input(\"Enter the par value of the bond: \"))\n",
        "    coupon_rate = float(input(\"Enter the coupon rate of the bond (in decimal): \"))\n",
        "    years_to_maturity = int(input(\"Enter the years to maturity of the bond: \"))\n",
        "    yield_change = float(input(\"Enter the change in yield (in decimal): \"))\n",
        "\n",
        "    convexity, duration, price = calculate_convexity_duration_price(par_value, coupon_rate, years_to_maturity, yield_change)\n",
        "    print(f\"The convexity of the bond is: {convexity:.2f}\")\n",
        "    print(f\"The duration of the bond is: {duration:.2f}\")\n",
        "    print(f\"The price of the bond is: {price:.2f}\")\n",
        "\n",
        "if __name__ == \"__main__\":\n",
        "    main()\n"
      ],
      "metadata": {
        "colab": {
          "base_uri": "https://localhost:8080/"
        },
        "id": "OrotXl9D3v1I",
        "outputId": "929e086a-dd24-4ea4-c291-bbf05469ccf3"
      },
      "execution_count": null,
      "outputs": [
        {
          "output_type": "stream",
          "name": "stdout",
          "text": [
            "Enter the par value of the bond: 1000\n",
            "Enter the coupon rate of the bond (in decimal): 0.06\n",
            "Enter the years to maturity of the bond: 5\n",
            "Enter the change in yield (in decimal): 0.02\n",
            "The convexity of the bond is: 27.91\n",
            "The duration of the bond is: 4.51\n",
            "The price of the bond is: 1188.37\n"
          ]
        }
      ]
    }
  ]
}