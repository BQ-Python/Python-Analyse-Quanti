{
  "nbformat": 4,
  "nbformat_minor": 0,
  "metadata": {
    "colab": {
      "provenance": []
    },
    "kernelspec": {
      "name": "python3",
      "display_name": "Python 3"
    },
    "language_info": {
      "name": "python"
    }
  },
  "cells": [
    {
      "cell_type": "code",
      "execution_count": null,
      "metadata": {
        "colab": {
          "base_uri": "https://localhost:8080/"
        },
        "id": "e0q40IPU860E",
        "outputId": "6d136434-f2cf-4d15-ae17-c8290c49e491"
      },
      "outputs": [
        {
          "output_type": "stream",
          "name": "stdout",
          "text": [
            "Le prix de l'option call selon le modèle de Black-Scholes est: 6.040088129724239\n",
            "Le prix de l'option put selon le modèle de Black-Scholes est: 10.675324824802793\n"
          ]
        }
      ],
      "source": [
        "# Importer les bibliothèques nécessaires\n",
        "import numpy as np\n",
        "import scipy.stats as si\n",
        "\n",
        "# Définir les paramètres du modèle de Black-Scholes\n",
        "S = 100  # Prix du sous-jacent\n",
        "K = 110  # Prix d'exercice\n",
        "r = 0.05  # Taux d'intérêt sans risque\n",
        "T = 1  # Maturité de l'option\n",
        "sigma = 0.2  # Volatilité du sous-jacent\n",
        "\n",
        "# Définir une fonction qui calcule le prix d'une option call européenne selon la formule de Black-Scholes\n",
        "def black_scholes_call(S, K, r, T, sigma):\n",
        "    # Calculer les paramètres d1 et d2\n",
        "    d1 = (np.log(S / K) + (r + 0.5 * sigma ** 2) * T) / (sigma * np.sqrt(T))\n",
        "    d2 = d1 - sigma * np.sqrt(T)\n",
        "\n",
        "    # Calculer le prix de l'option call\n",
        "    call = S * si.norm.cdf(d1) - K * np.exp(-r * T) * si.norm.cdf(d2)\n",
        "\n",
        "    return call\n",
        "\n",
        "# Définir une fonction qui calcule le prix d'une option put européenne selon la formule de Black-Scholes\n",
        "def black_scholes_put(S, K, r, T, sigma):\n",
        "    # Calculer les paramètres d1 et d2\n",
        "    d1 = (np.log(S / K) + (r + 0.5 * sigma ** 2) * T) / (sigma * np.sqrt(T))\n",
        "    d2 = d1 - sigma * np.sqrt(T)\n",
        "\n",
        "    # Calculer le prix de l'option put\n",
        "    put = K * np.exp(-r * T) * si.norm.cdf(-d2) - S * si.norm.cdf(-d1)\n",
        "\n",
        "    return put\n",
        "\n",
        "# Afficher les prix des options call et put selon le modèle de Black-Scholes\n",
        "print(\"Le prix de l'option call selon le modèle de Black-Scholes est:\", black_scholes_call(S, K, r, T, sigma))\n",
        "print(\"Le prix de l'option put selon le modèle de Black-Scholes est:\", black_scholes_put(S, K, r, T, sigma))"
      ]
    },
    {
      "cell_type": "code",
      "source": [
        "# Définir une fonction qui simule le prix du sous-jacent à la maturité selon le modèle de Black-Scholes\n",
        "def simulate_stock_price(S, r, T, sigma):\n",
        "    # Générer un nombre aléatoire suivant une loi normale standard\n",
        "    Z = np.random.normal()\n",
        "\n",
        "    # Calculer le prix du sous-jacent à la maturité\n",
        "    ST = S * np.exp((r - 0.5 * sigma ** 2) * T + sigma * np.sqrt(T) * Z)\n",
        "\n",
        "    return ST\n",
        "\n",
        "# Définir une fonction qui calcule le prix d'une option call européenne par la méthode de Monte Carlo\n",
        "def monte_carlo_call(S, K, r, T, sigma, N):\n",
        "    # Initialiser une liste vide pour stocker les payoffs simulés\n",
        "    payoffs = []\n",
        "\n",
        "    # Répéter N fois la simulation du prix du sous-jacent à la maturité\n",
        "    for i in range(N):\n",
        "        # Simuler le prix du sous-jacent à la maturité\n",
        "        ST = simulate_stock_price(S, r, T, sigma)\n",
        "\n",
        "        # Calculer le payoff de l'option call à la maturité\n",
        "        payoff = max(ST - K, 0)\n",
        "\n",
        "        # Ajouter le payoff à la liste des payoffs\n",
        "        payoffs.append(payoff)\n",
        "\n",
        "    # Calculer la moyenne des payoffs actualisés\n",
        "    mean_payoff = np.mean(payoffs) * np.exp(-r * T)\n",
        "\n",
        "    # Retourner le prix de l'option call par la méthode de Monte Carlo\n",
        "    return mean_payoff\n",
        "\n",
        "# Définir une fonction qui calcule le prix d'une option put européenne par la méthode de Monte Carlo\n",
        "def monte_carlo_put(S, K, r, T, sigma, N):\n",
        "    # Initialiser une liste vide pour stocker les payoffs simulés\n",
        "    payoffs = []\n",
        "\n",
        "    # Répéter N fois la simulation du prix du sous-jacent à la maturité\n",
        "    for i in range(N):\n",
        "        # Simuler le prix du sous-jacent à la maturité\n",
        "        ST = simulate_stock_price(S, r, T, sigma)\n",
        "\n",
        "        # Calculer le payoff de l'option put à la maturité\n",
        "        payoff = max(K - ST, 0)\n",
        "\n",
        "        # Ajouter le payoff à la liste des payoffs\n",
        "        payoffs.append(payoff)\n",
        "\n",
        "    # Calculer la moyenne des payoffs actualisés\n",
        "    mean_payoff = np.mean(payoffs) * np.exp(-r * T)\n",
        "\n",
        "    # Retourner le prix de l'option put par la méthode de Monte Carlo\n",
        "    return mean_payoff\n",
        "\n",
        "# Définir le nombre de simulations à effectuer\n",
        "N = 10000\n",
        "\n",
        "# Afficher les prix des options call et put par la méthode de Monte Carlo\n",
        "print(\"Le prix de l'option call par la méthode de Monte Carlo est:\", monte_carlo_call(S, K, r, T, sigma, N))\n",
        "print(\"Le prix de l'option put par la méthode de Monte Carlo est:\", monte_carlo_put(S, K, r, T, sigma, N))"
      ],
      "metadata": {
        "id": "M0qUQhx59C7w",
        "outputId": "eb4c672a-d55e-4dbb-802c-4a01abe38750",
        "colab": {
          "base_uri": "https://localhost:8080/"
        }
      },
      "execution_count": null,
      "outputs": [
        {
          "output_type": "stream",
          "name": "stdout",
          "text": [
            "Le prix de l'option call par la méthode de Monte Carlo est: 6.044913239520788\n",
            "Le prix de l'option put par la méthode de Monte Carlo est: 10.49897844972515\n"
          ]
        }
      ]
    }
  ]
}