{
  "nbformat": 4,
  "nbformat_minor": 0,
  "metadata": {
    "colab": {
      "provenance": []
    },
    "kernelspec": {
      "name": "python3",
      "display_name": "Python 3"
    },
    "language_info": {
      "name": "python"
    }
  },
  "cells": [
    {
      "cell_type": "code",
      "execution_count": 4,
      "metadata": {
        "colab": {
          "base_uri": "https://localhost:8080/"
        },
        "id": "GX3qU6HLdyjT",
        "outputId": "65d93615-f9aa-47f2-ff7d-aeab4c3d7891"
      },
      "outputs": [
        {
          "output_type": "stream",
          "name": "stdout",
          "text": [
            "mes résultats:\n",
            "Prix du call: 6.040088129724239\n",
            "Prix du put: 10.675324824802786\n",
            "Matrice jacobienne des prix des options:\n",
            " [[ 0.44964793  0.39576048 -0.19462352  0.01978802]\n",
            " [-0.55035207  0.39576048  0.19462352 -0.01978802]]\n"
          ]
        }
      ],
      "source": [
        "import numpy as np\n",
        "from scipy.stats import norm\n",
        "\n",
        "def option_price(S, K, r, T, sigma):\n",
        "    d1 = (np.log(S / K) + (r + sigma**2/2) * T) / (sigma * np.sqrt(T))\n",
        "    d2 = d1 - sigma * np.sqrt(T)\n",
        "    N_d1 = norm.cdf(d1)\n",
        "    N_d2 = norm.cdf(d2)\n",
        "\n",
        "    call_price = S * N_d1 - K * np.exp(-r * T) * N_d2\n",
        "    put_price = call_price - S + K * np.exp(-r * T)\n",
        "\n",
        "    return call_price, put_price\n",
        "\n",
        "# Calculer la matrice jacobienne des prix des options par rapport aux paramètres\n",
        "def jacobian_option_prices(S, K, r, T, sigma):\n",
        "    jacobian = np.zeros((2, 4))\n",
        "\n",
        "    d1 = (np.log(S / K) + (r + sigma**2/2) * T) / (sigma * np.sqrt(T))\n",
        "    d2 = d1 - sigma * np.sqrt(T)\n",
        "    N_d1 = norm.cdf(d1)\n",
        "    N_d2 = norm.cdf(d2)\n",
        "\n",
        "    # Delta\n",
        "    jacobian[0, 0] = norm.cdf(d1, 0, 1)\n",
        "    jacobian[1, 0] = -norm.cdf(-d1, 0, 1)\n",
        "\n",
        "    # Vega (sensibilité à la volatilité)\n",
        "    jacobian[0, 1] = (S * np.sqrt(T) * norm.pdf(d1, 0, 1))*0.01\n",
        "    jacobian[1, 1] = jacobian[0, 1]\n",
        "\n",
        "    # Theta (décroissance temporelle)\n",
        "    jacobian[0, 2] = (-K * r * np.exp(-r * T) * N_d2)*0.1\n",
        "    jacobian[1, 2] = -jacobian[0, 2]\n",
        "\n",
        "    # Gamma (sensibilité du delta)\n",
        "    jacobian[0, 3] = norm.pdf(d1) / (S * sigma * np.sqrt(T))\n",
        "    jacobian[1, 3] = -jacobian[0, 3]\n",
        "\n",
        "    return jacobian\n",
        "\n",
        "S = 100  # Prix actuel de l'actif sous-jacent\n",
        "K = 110  # Prix d'exercice de l'option\n",
        "r = 0.05  # Taux d'intérêt sans risque\n",
        "T = 1   # Temps jusqu'à l'expiration de l'option\n",
        "sigma = 0.2  # Volatilité du marché\n",
        "\n",
        "call, put = option_price(S, K, r, T, sigma)\n",
        "jacobian = jacobian_option_prices(S, K, r, T, sigma)\n",
        "\n",
        "print(\"mes résultats:\")\n",
        "print(\"Prix du call:\", call)\n",
        "print(\"Prix du put:\", put)\n",
        "print(\"Matrice jacobienne des prix des options:\\n\", jacobian)\n"
      ]
    }
  ]
}
