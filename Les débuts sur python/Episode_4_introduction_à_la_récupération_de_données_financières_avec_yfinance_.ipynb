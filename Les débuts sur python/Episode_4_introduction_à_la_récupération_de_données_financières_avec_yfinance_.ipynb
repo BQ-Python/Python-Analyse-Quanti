{
  "nbformat": 4,
  "nbformat_minor": 0,
  "metadata": {
    "colab": {
      "provenance": []
    },
    "kernelspec": {
      "name": "python3",
      "display_name": "Python 3"
    },
    "language_info": {
      "name": "python"
    }
  },
  "cells": [
    {
      "cell_type": "code",
      "execution_count": 3,
      "metadata": {
        "colab": {
          "base_uri": "https://localhost:8080/"
        },
        "id": "GX3qU6HLdyjT",
        "outputId": "3a44e78b-7cf9-41a9-e094-3898d005ba75"
      },
      "outputs": [
        {
          "output_type": "stream",
          "name": "stdout",
          "text": [
            "Données triées par année avec les ratios financiers calculés :\n",
            "   Symbole   asOfDate  CostOfRevenue  BasicEPS  EBITDA   GrossProfit  \\\n",
            "0    AAPL 2022-12-31   6.682200e+10      1.89     NaN  5.033200e+10   \n",
            "1   GOOGL 2022-12-31   3.534200e+10      1.06     NaN  4.070600e+10   \n",
            "2    META 2022-12-31   8.336000e+09      1.76     NaN  2.382900e+10   \n",
            "3    MSFT 2022-12-31   1.748800e+10      2.20     NaN  3.525900e+10   \n",
            "4    TSLA 2022-12-31   1.854100e+10      1.18     NaN  5.777000e+09   \n",
            "5     XOM 2022-12-31   6.619000e+10      3.09     NaN  2.697400e+10   \n",
            "\n",
            "      NetIncome  TotalRevenue  BasicAverageShares  GrossProfitMargin  \\\n",
            "0  2.999800e+10  1.171540e+11        1.589272e+10          42.962255   \n",
            "1  1.362400e+10  7.604800e+10        1.289800e+10          53.526720   \n",
            "2  4.652000e+09  3.216500e+10        2.639000e+09          74.083631   \n",
            "3  1.642500e+10  5.274700e+10        7.451000e+09          66.845508   \n",
            "4  3.687000e+09  2.431800e+10        3.160000e+09          23.756065   \n",
            "5  1.275000e+10  9.316400e+10        4.419000e+09          28.953244   \n",
            "\n",
            "   NetProfitMargin  EBITDAMargin  \n",
            "0        25.605613           NaN  \n",
            "1        17.915001           NaN  \n",
            "2        14.462926           NaN  \n",
            "3        31.139212           NaN  \n",
            "4        15.161609           NaN  \n",
            "5        13.685544           NaN  \n",
            "Données triées par année (colonnes sélectionnées) :\n",
            "   Symbole   asOfDate  CostOfRevenue  BasicEPS  EBITDA   GrossProfit  \\\n",
            "0    AAPL 2022-12-31   6.682200e+10      1.89     NaN  5.033200e+10   \n",
            "1   GOOGL 2022-12-31   3.534200e+10      1.06     NaN  4.070600e+10   \n",
            "2    META 2022-12-31   8.336000e+09      1.76     NaN  2.382900e+10   \n",
            "3    MSFT 2022-12-31   1.748800e+10      2.20     NaN  3.525900e+10   \n",
            "4    TSLA 2022-12-31   1.854100e+10      1.18     NaN  5.777000e+09   \n",
            "5     XOM 2022-12-31   6.619000e+10      3.09     NaN  2.697400e+10   \n",
            "\n",
            "      NetIncome  TotalRevenue  BasicAverageShares  GrossProfitMargin  \\\n",
            "0  2.999800e+10  1.171540e+11        1.589272e+10          42.962255   \n",
            "1  1.362400e+10  7.604800e+10        1.289800e+10          53.526720   \n",
            "2  4.652000e+09  3.216500e+10        2.639000e+09          74.083631   \n",
            "3  1.642500e+10  5.274700e+10        7.451000e+09          66.845508   \n",
            "4  3.687000e+09  2.431800e+10        3.160000e+09          23.756065   \n",
            "5  1.275000e+10  9.316400e+10        4.419000e+09          28.953244   \n",
            "\n",
            "   NetProfitMargin  EBITDAMargin  \n",
            "0        25.605613           NaN  \n",
            "1        17.915001           NaN  \n",
            "2        14.462926           NaN  \n",
            "3        31.139212           NaN  \n",
            "4        15.161609           NaN  \n",
            "5        13.685544           NaN  \n"
          ]
        }
      ],
      "source": [
        "import pandas as pd\n",
        "from yahooquery import Ticker\n",
        "\n",
        "# Liste des symboles boursiers pour les entreprises\n",
        "companies = ['XOM', 'AAPL', 'MSFT', 'GOOGL', 'TSLA', 'META']\n",
        "\n",
        "# Télécharger les données financières pour chaque entreprise et les stocker dans une liste\n",
        "data_frames = []\n",
        "for company in companies:\n",
        "    ticker = Ticker(company)\n",
        "    income_statement_df = ticker.income_statement('q')\n",
        "    # Ajouter une colonne pour le symbole de l'entreprise\n",
        "    income_statement_df['Symbole'] = company\n",
        "    data_frames.append(income_statement_df)\n",
        "\n",
        "# Combiner les DataFrames en un seul DataFrame\n",
        "combined_df = pd.concat(data_frames)\n",
        "\n",
        "# Assurer que la colonne 'asOfDate' est au format datetime\n",
        "combined_df['asOfDate'] = pd.to_datetime(combined_df['asOfDate'])\n",
        "\n",
        "# Filtrer les données pour n'inclure que les années antérieures à 2023\n",
        "sorted_by_year_df = combined_df[combined_df['asOfDate'].dt.year < 2023]\n",
        "\n",
        "# Tri par année (utilisation de la fonction 'resample' pour trier par année)\n",
        "sorted_by_year_df = sorted_by_year_df.set_index('asOfDate').groupby('Symbole').resample('Y').last()\n",
        "\n",
        "# Sélectionner uniquement les colonnes spécifiées\n",
        "columns_to_keep = ['CostOfRevenue', 'BasicEPS', 'EBITDA', 'GrossProfit', 'NetIncome', 'TotalRevenue', 'BasicAverageShares']\n",
        "sorted_by_year_df = sorted_by_year_df[columns_to_keep]\n",
        "\n",
        "# Calculer les ratios financiers pour chaque action\n",
        "sorted_by_year_df['GrossProfitMargin'] = (sorted_by_year_df['GrossProfit'] / sorted_by_year_df['TotalRevenue']) * 100\n",
        "sorted_by_year_df['NetProfitMargin'] = (sorted_by_year_df['NetIncome'] / sorted_by_year_df['TotalRevenue']) * 100\n",
        "sorted_by_year_df['EBITDAMargin'] = (sorted_by_year_df['EBITDA'] / sorted_by_year_df['TotalRevenue']) * 100\n",
        "\n",
        "# Sélectionner uniquement les colonnes avec les ratios calculés\n",
        "columns_with_ratios = ['CostOfRevenue', 'BasicEPS', 'EBITDA', 'GrossProfit', 'NetIncome', 'TotalRevenue', 'BasicAverageShares',\n",
        "                       'GrossProfitMargin', 'NetProfitMargin', 'EBITDAMargin']\n",
        "sorted_by_year_df = sorted_by_year_df[columns_with_ratios]\n",
        "\n",
        "# Réinitialiser l'index pour afficher les données sous forme de DataFrame\n",
        "sorted_by_year_df.reset_index(inplace=True)\n",
        "\n",
        "# Afficher les données sous forme de DataFrame\n",
        "print(\"Données triées par année avec les ratios financiers calculés :\\n\", sorted_by_year_df)\n",
        "\n",
        "print(\"Données triées par année (colonnes sélectionnées) :\\n\", sorted_by_year_df)\n"
      ]
    }
  ]
}