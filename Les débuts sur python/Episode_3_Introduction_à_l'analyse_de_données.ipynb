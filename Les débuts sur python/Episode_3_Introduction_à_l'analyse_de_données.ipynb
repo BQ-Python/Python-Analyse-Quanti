{
  "nbformat": 4,
  "nbformat_minor": 0,
  "metadata": {
    "colab": {
      "provenance": []
    },
    "kernelspec": {
      "name": "python3",
      "display_name": "Python 3"
    },
    "language_info": {
      "name": "python"
    }
  },
  "cells": [
    {
      "cell_type": "code",
      "execution_count": null,
      "metadata": {
        "id": "_tn7d2AC1wfo"
      },
      "outputs": [],
      "source": [
        "import yfinance as yf\n",
        "import numpy as np\n",
        "import matplotlib.pyplot as plt\n",
        "import seaborn as sns\n",
        "\n",
        "# Télécharger les données d'actifs financiers à partir de Yahoo Finance\n",
        "tickers = ['AAPL', 'MSFT', 'GOOGL', 'AMZN', 'TSLA', 'NFLX', 'NVDA', 'V', 'JPM', 'MA', '^GSPC']\n",
        "data = yf.download(tickers, start='2016-01-01', end='2023-07-25')['Adj Close']\n",
        "\n",
        "# Calculer les rendements quotidiens des actifs financiers\n",
        "returns = data.pct_change()\n",
        "\n",
        "# Calculer la volatilité des actifs financiers (volatilité annuelle)\n",
        "volatility = returns.std() * np.sqrt(252)\n",
        "\n",
        "# Identifier les actifs les plus performants (selon le ratio rendement/volatilité)\n",
        "performance_ratio = returns.mean() / volatility\n",
        "\n",
        "# Calculer les rendements cumulés\n",
        "cumulative_returns = (returns + 1).cumprod()\n",
        "\n",
        "# Calculer la corrélation entre les actifs\n",
        "correlation_matrix = returns.corr()\n",
        "\n",
        "# Calculer les rendements annualisés\n",
        "annual_returns = returns.mean() * 252\n",
        "\n",
        "# Afficher les résultats\n",
        "print(\"\\nVolatilité annuelle :\\n\", volatility)\n",
        "print(\"\\nRatio rendement/volatilité :\\n\", performance_ratio)\n",
        "print(\"\\nRendements cumulés :\\n\", cumulative_returns)\n",
        "print(\"\\nMatrice de corrélation :\\n\", correlation_matrix)\n",
        "print(\"\\nRendements annualisés :\\n\", annual_returns)\n",
        "\n",
        "# Ajout de la matrice de corrélation sous forme de heatmap\n",
        "fig, ax2 = plt.subplots(figsize=(10, 8))\n",
        "sns.heatmap(correlation_matrix, annot=True, cmap='coolwarm', ax=ax2)\n",
        "ax2.set_title('Matrice de corrélation entre les actifs')\n",
        "plt.tight_layout()\n",
        "\n",
        "# Ajout du graphique montrant les rendements cumulés de chaque action\n",
        "fig, ax3 = plt.subplots(figsize=(12, 6))\n",
        "cumulative_returns.plot(ax=ax3)\n",
        "ax3.set_xlabel('Date')\n",
        "ax3.set_ylabel('Rendements cumulés')\n",
        "ax3.set_title('Rendements cumulés des actions')\n",
        "ax3.grid(True)\n",
        "\n",
        "# Analyser la distribution des rendements\n",
        "fig, ax1 = plt.subplots(figsize=(12, 6))\n",
        "returns.hist(bins=50, ax=ax1)\n",
        "ax1.set_xlabel('Rendements')\n",
        "ax1.set_ylabel('Fréquence')\n",
        "ax1.set_title('Distribution des rendements')\n",
        "ax1.grid(True)\n",
        "\n",
        "# Ajuster automatiquement les espacements entre les sous-graphiques\n",
        "plt.tight_layout()\n",
        "plt.show()"
      ]
    },
    {
      "cell_type": "code",
      "source": [
        "import pandas as pd\n",
        "\n",
        "# ... Votre code pour télécharger les données et les calculs précédents ...\n",
        "\n",
        "# Calculer le Beta (coefficient bêta) de chaque action par rapport à l'indice S&P 500\n",
        "market_returns = data['^GSPC'].pct_change().dropna()\n",
        "\n",
        "beta_values = {}\n",
        "for ticker in tickers[:-1]:  # Exclure '^GSPC' de la liste des actions\n",
        "    stock_returns = returns[ticker].dropna()\n",
        "    covariance = np.cov(stock_returns, market_returns)[0, 1]\n",
        "    market_variance = np.var(market_returns)\n",
        "    beta_values[ticker] = covariance / market_variance\n",
        "\n",
        "# Créer un DataFrame pour afficher les résultats de manière plus lisible\n",
        "beta_df = pd.DataFrame(beta_values.items(), columns=['Action', 'Bêta (par rapport à ^GSPC)'])\n",
        "\n",
        "# Afficher les résultats\n",
        "print(beta_df)\n"
      ],
      "metadata": {
        "id": "ggvvSjT_2JdW"
      },
      "execution_count": null,
      "outputs": []
    }
  ]
}